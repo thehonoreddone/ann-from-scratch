{
  "nbformat": 4,
  "nbformat_minor": 0,
  "metadata": {
    "colab": {
      "provenance": [],
      "authorship_tag": "ABX9TyN3WnAyJonxoLEcjMq2RMQa",
      "include_colab_link": true
    },
    "kernelspec": {
      "name": "python3",
      "display_name": "Python 3"
    },
    "language_info": {
      "name": "python"
    }
  },
  "cells": [
    {
      "cell_type": "markdown",
      "metadata": {
        "id": "view-in-github",
        "colab_type": "text"
      },
      "source": [
        "<a href=\"https://colab.research.google.com/github/thehonoreddone/ann-from-scratch/blob/main/ANN_from_scratch.ipynb\" target=\"_parent\"><img src=\"https://colab.research.google.com/assets/colab-badge.svg\" alt=\"Open In Colab\"/></a>"
      ]
    },
    {
      "cell_type": "code",
      "source": [
        "def sigmoid(x):\n",
        "  return 1/(1+np.exp(-x))\n",
        "\n",
        "def derive_sigmoid(x):\n",
        "  fx=sigmoid(x)\n",
        "  return fx*(1-fx)\n",
        "\n",
        "X=np.array([[0,0,1],[0,1,1],[1,0,1],[1,1,1]])\n",
        "y=np.array([[0],[1],[1],[0]])\n",
        "\n",
        "input_size=3\n",
        "hidden_size=4\n",
        "output_size=1\n",
        "\n",
        "np.random.seed(42)\n",
        "\n",
        "w1=np.random.randn(input_size,hidden_size) # giriş katmandan gizli katmana ağırlıklar 3x4 matris\n",
        "w2=np.random.randn(hidden_size,output_size)# gizli katmandan çıkış katmanına ağrılıklar 4x1 matris\n",
        "\n",
        "b1=np.zeros((1,hidden_size))\n",
        "b2=np.zeros((1,output_size))\n",
        "\n",
        "lr=0.01 #  öğrenme oranı , gradient descent adım büyüklüğü\n",
        "epochs=10000\n",
        "\n",
        "for epoch in range(epochs):\n",
        "  z1=np.dot(X,w1)+b1   # girişten gizli katmana ulaşan toplam giriş\n",
        "  a1=sigmoid(z1) # gizli katman aktivasyonu\n",
        "\n",
        "  z2=np.dot(a1,w2)+b2   # gizli katmandan çıkkış katmanına net giriş\n",
        "  a2=sigmoid(z2) # çıkış katmanı aktivasyonu, tahmin edilen değer\n",
        "\n",
        "  loss=np.mean((y-a2)**2) # MSE\n",
        "\n",
        "  d_a2=-(y-a2) # loss fonks çıktıya göre türevi\n",
        "  d_z2=d_a2*derive_sigmoid(z2) # zincir kuralı\n",
        "\n",
        "  d_W2 = np.dot(a1.T, d_z2) # ağırlıklar için türev\n",
        "  d_b2 = np.sum(d_z2, axis=0, keepdims=True) # bias için türev, sadece toplam alınır\n",
        "\n",
        "  d_a1 = np.dot(d_z2, w2.T) # w2’yi ters yönde geçerek hata geri yayılır\n",
        "  d_z1 = d_a1 * derive_sigmoid(z1)\n",
        "\n",
        "  d_W1 = np.dot(X.T, d_z1)\n",
        "  d_b1 = np.sum(d_z1, axis=0, keepdims=True)\n",
        "\n",
        "\n",
        "  w2 -= lr * d_W2 # ağırlık güncellemeleri. Tüm öğrenme burada olur. azaltmak istediğimiz için negatif türev\n",
        "  b2 -= lr * d_b2\n",
        "  w1 -= lr * d_W1\n",
        "  b1 -= lr * d_b1\n",
        "\n",
        "\n",
        "  if epoch % 1000 == 0:\n",
        "      print(f\"Epoch {epoch}, Loss: {loss:.4f}\")\n",
        "\n",
        "print(\"\\nEğitim sonrası tahminler:\")\n",
        "print(a2.round())"
      ],
      "metadata": {
        "colab": {
          "base_uri": "https://localhost:8080/"
        },
        "id": "kQhWXtHnn7fg",
        "outputId": "1652b45a-42dc-408b-e742-5836bbaee4ea"
      },
      "execution_count": null,
      "outputs": [
        {
          "output_type": "stream",
          "name": "stdout",
          "text": [
            "Epoch 0, Loss: 0.4318\n",
            "Epoch 1000, Loss: 0.2487\n",
            "Epoch 2000, Loss: 0.2465\n",
            "Epoch 3000, Loss: 0.2440\n",
            "Epoch 4000, Loss: 0.2407\n",
            "Epoch 5000, Loss: 0.2361\n",
            "Epoch 6000, Loss: 0.2299\n",
            "Epoch 7000, Loss: 0.2217\n",
            "Epoch 8000, Loss: 0.2110\n",
            "Epoch 9000, Loss: 0.1973\n",
            "\n",
            "Eğitim sonrası tahminler:\n",
            "[[0.]\n",
            " [1.]\n",
            " [1.]\n",
            " [0.]]\n"
          ]
        }
      ]
    },
    {
      "cell_type": "code",
      "source": [
        "print(X.shape)"
      ],
      "metadata": {
        "colab": {
          "base_uri": "https://localhost:8080/"
        },
        "id": "U5mOlOFR514S",
        "outputId": "d8a42913-d856-47fe-8a7f-c831dafefe47"
      },
      "execution_count": null,
      "outputs": [
        {
          "output_type": "stream",
          "name": "stdout",
          "text": [
            "(4, 3)\n"
          ]
        }
      ]
    },
    {
      "cell_type": "code",
      "source": [
        "print(w1.shape)"
      ],
      "metadata": {
        "colab": {
          "base_uri": "https://localhost:8080/"
        },
        "id": "nbdMfLUA-Zk_",
        "outputId": "0f876a5f-8ede-4f5b-a851-3d476cec37e9"
      },
      "execution_count": null,
      "outputs": [
        {
          "output_type": "stream",
          "name": "stdout",
          "text": [
            "(3, 4)\n"
          ]
        }
      ]
    }
  ]
}